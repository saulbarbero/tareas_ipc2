{
  "nbformat": 4,
  "nbformat_minor": 0,
  "metadata": {
    "colab": {
      "name": "1. Listas enlazadas.ipynb",
      "provenance": [],
      "authorship_tag": "ABX9TyNS2Nk7sNBA0QvAuO2epR9N",
      "include_colab_link": true
    },
    "kernelspec": {
      "name": "python3",
      "display_name": "Python 3"
    },
    "language_info": {
      "name": "python"
    }
  },
  "cells": [
    {
      "cell_type": "markdown",
      "metadata": {
        "id": "view-in-github",
        "colab_type": "text"
      },
      "source": [
        "<a href=\"https://colab.research.google.com/github/saulbarbero/tareas_ipc2/blob/main/1_Listas_enlazadas.ipynb\" target=\"_parent\"><img src=\"https://colab.research.google.com/assets/colab-badge.svg\" alt=\"Open In Colab\"/></a>"
      ]
    },
    {
      "cell_type": "code",
      "metadata": {
        "id": "5wQ0qvFruvU-"
      },
      "source": [
        ""
      ],
      "execution_count": null,
      "outputs": []
    },
    {
      "cell_type": "markdown",
      "metadata": {
        "id": "5UiCTNkeuKrB"
      },
      "source": [
        "##Listas Enlazadas\n",
        "**Definicion de la clase Estudiante**"
      ]
    },
    {
      "cell_type": "code",
      "metadata": {
        "id": "aPNwWY9Qvp_G"
      },
      "source": [
        "class estudiante:\n",
        "  def __init__(self, carne, nombre, edad, direccion, telefono, email, carrera, puesto):\n",
        "    self.carne = carne\n",
        "    self.nombre = nombre\n",
        "    self.edad = edad\n",
        "    self.direccion = direccion\n",
        "    self.telefono = telefono\n",
        "    self.email = email\n",
        "    self.carrera = carrera\n",
        "    self.puesto = puesto \n"
      ],
      "execution_count": null,
      "outputs": []
    },
    {
      "cell_type": "markdown",
      "metadata": {
        "id": "je03B_cWzc0t"
      },
      "source": [
        "**Definicion de la clase nodo**"
      ]
    },
    {
      "cell_type": "code",
      "metadata": {
        "id": "X6i5GPsPzif1"
      },
      "source": [
        "class nodo:\n",
        "  def __init__(self, estudiante=None, siguiente=None):\n",
        "    self.estudiante = estudiante\n",
        "    self.siguiente = siguiente"
      ],
      "execution_count": null,
      "outputs": []
    },
    {
      "cell_type": "markdown",
      "metadata": {
        "id": "Xxd-TvCP22j0"
      },
      "source": [
        "**Definicion de la clase Lista Enlazada**\n"
      ]
    },
    {
      "cell_type": "code",
      "metadata": {
        "id": "vROZmd542-IQ"
      },
      "source": [
        "class lista_enlazada:\n",
        "  def __init__(self):\n",
        "    self.primero = None\n",
        "  \n",
        "  def insertar(self,estudiante):\n",
        "    if self.primero is None:\n",
        "      self.primero = nodo(estudiante=estudiante)\n",
        "      return\n",
        "    actual = self.primero\n",
        "    while actual.siguiente:\n",
        "      actual = actual.siguiente\n",
        "    actual.siguiente = nodo(estudiante=estudiante)\n",
        "\n",
        "  def recorrer(self):\n",
        "    actual = self.primero\n",
        "    while actual != None:\n",
        "      print(\"Carne:\", actual.estudiante.carne, \"nombre:\", actual.estudiante.nombre, \"Email:\",actual.estudiante.email,\"->\")\n",
        "      actual = actual.siguiente\n",
        "\n",
        "  def eliminar(self,carne):\n",
        "    actual = self.primero\n",
        "    anterior = None\n",
        "\n",
        "    while actual and actual.estudiante.carne != carne:\n",
        "      anterior = actual\n",
        "      actual = actual.siguiente\n",
        "      \n",
        "    if anterior is None:\n",
        "      self.primero = actual.siguiente\n",
        "      actual.siguiente = None\n",
        "    elif actual:\n",
        "      anterior.siguiente = actual.siguiente\n",
        "      actual.siguiente = None\n",
        "    \n",
        "  def buscar(self,carne):\n",
        "    actual = self.primero\n",
        "    if actual.estudiante.carne == carne:\n",
        "      print(\"Carne:\", actual.estudiante.carne, \"nombre:\", actual.estudiante.nombre, \"Email:\",actual.estudiante.email,\"->\")\n",
        "      actual = actual.siguiente\n",
        "    else:\n",
        "      print(\"No se encontro a ningun estudiante\")\n",
        "\n",
        "\n",
        "\n"
      ],
      "execution_count": null,
      "outputs": []
    },
    {
      "cell_type": "markdown",
      "metadata": {
        "id": "0ts2tAK-shX4"
      },
      "source": [
        "**Creacion de Objetos Estudiante**\n"
      ]
    },
    {
      "cell_type": "code",
      "metadata": {
        "id": "4b4AjY9isn7Z"
      },
      "source": [
        "e1 = estudiante(201915059, \"Gerson Ortiz\",20,\"9calle 10-02 zona1\",24400101,\"gerson.ortiz@gmail.com\",\"Ingenieria en Sistemas\", \"Catedratico\")\n",
        "e2 = estudiante(201915060, \"Karen Ortiz\",21,\"8calle 10-02 zona1\",24400101, \"karen.ortiz@gmail.com\",\"Ingenieria en Sistemas\", \"Estudiante\")\n",
        "e3 = estudiante(201915061, \"Luis Ortiz\",22,\"7calle 10-02 zona1\",24400101, \"luis.ortiz@gmail.com\",\"Ingenieria en Sistemas\", \"Estudiante\")"
      ],
      "execution_count": null,
      "outputs": []
    },
    {
      "cell_type": "markdown",
      "metadata": {
        "id": "9uPVbphgtnms"
      },
      "source": [
        "**Inserción**"
      ]
    },
    {
      "cell_type": "code",
      "metadata": {
        "id": "l8FS_fo2tro1"
      },
      "source": [
        "lista_e = lista_enlazada()\n",
        "lista_e.insertar(e1)\n",
        "lista_e.insertar(e2)\n",
        "lista_e.insertar(e3)"
      ],
      "execution_count": null,
      "outputs": []
    },
    {
      "cell_type": "markdown",
      "metadata": {
        "id": "C8m8jXqct7et"
      },
      "source": [
        "**Recorrer Lista**"
      ]
    },
    {
      "cell_type": "code",
      "metadata": {
        "colab": {
          "base_uri": "https://localhost:8080/"
        },
        "id": "1r8toLjSt-DG",
        "outputId": "cf4660ae-b58f-4672-f4cb-88fde0221d6c"
      },
      "source": [
        "lista_e.recorrer()"
      ],
      "execution_count": null,
      "outputs": [
        {
          "output_type": "stream",
          "text": [
            "Carne: 201915059 nombre: Gerson Ortiz Email: gerson.ortiz@gmail.com ->\n",
            "Carne: 201915060 nombre: Karen Ortiz Email: karen.ortiz@gmail.com ->\n",
            "Carne: 201915061 nombre: Luis Ortiz Email: luis.ortiz@gmail.com ->\n"
          ],
          "name": "stdout"
        }
      ]
    },
    {
      "cell_type": "markdown",
      "metadata": {
        "id": "6j90-qevwesf"
      },
      "source": [
        "**Eliminar un nodo de la lista**\n"
      ]
    },
    {
      "cell_type": "code",
      "metadata": {
        "colab": {
          "base_uri": "https://localhost:8080/"
        },
        "id": "iDATn-5Jwi98",
        "outputId": "323175d0-908e-4e73-91eb-37b6867ff749"
      },
      "source": [
        "lista_e.eliminar(201915060)\n",
        "lista_e.recorrer()"
      ],
      "execution_count": null,
      "outputs": [
        {
          "output_type": "stream",
          "text": [
            "Carne: 201915059 nombre: Gerson Ortiz Email: gerson.ortiz@gmail.com ->\n",
            "Carne: 201915061 nombre: Luis Ortiz Email: luis.ortiz@gmail.com ->\n"
          ],
          "name": "stdout"
        }
      ]
    },
    {
      "cell_type": "markdown",
      "metadata": {
        "id": "Wk1Au5XzESG9"
      },
      "source": [
        "**Buscar**"
      ]
    },
    {
      "cell_type": "code",
      "metadata": {
        "colab": {
          "base_uri": "https://localhost:8080/",
          "height": 172
        },
        "id": "TdHoFjF7GxZF",
        "outputId": "f36de87e-6dcb-4eba-b884-5d584900aa4f"
      },
      "source": [
        "lista_e.buscar(201915061)"
      ],
      "execution_count": 4,
      "outputs": [
        {
          "output_type": "error",
          "ename": "NameError",
          "evalue": "ignored",
          "traceback": [
            "\u001b[0;31m---------------------------------------------------------------------------\u001b[0m",
            "\u001b[0;31mNameError\u001b[0m                                 Traceback (most recent call last)",
            "\u001b[0;32m<ipython-input-4-471c1828f51f>\u001b[0m in \u001b[0;36m<module>\u001b[0;34m()\u001b[0m\n\u001b[0;32m----> 1\u001b[0;31m \u001b[0mlista_e\u001b[0m\u001b[0;34m.\u001b[0m\u001b[0mbuscar\u001b[0m\u001b[0;34m(\u001b[0m\u001b[0;36m201915061\u001b[0m\u001b[0;34m)\u001b[0m\u001b[0;34m\u001b[0m\u001b[0;34m\u001b[0m\u001b[0m\n\u001b[0m",
            "\u001b[0;31mNameError\u001b[0m: name 'lista_e' is not defined"
          ]
        }
      ]
    }
  ]
}