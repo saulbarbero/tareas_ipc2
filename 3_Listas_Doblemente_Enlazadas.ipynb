{
  "nbformat": 4,
  "nbformat_minor": 0,
  "metadata": {
    "colab": {
      "name": "3 Listas Doblemente Enlazadas.ipynb",
      "provenance": [],
      "authorship_tag": "ABX9TyPIWtNsHh+7nfyku0xrr1p9",
      "include_colab_link": true
    },
    "kernelspec": {
      "name": "python3",
      "display_name": "Python 3"
    },
    "language_info": {
      "name": "python"
    }
  },
  "cells": [
    {
      "cell_type": "markdown",
      "metadata": {
        "id": "view-in-github",
        "colab_type": "text"
      },
      "source": [
        "<a href=\"https://colab.research.google.com/github/saulbarbero/tareas_ipc2/blob/main/3_Listas_Doblemente_Enlazadas.ipynb\" target=\"_parent\"><img src=\"https://colab.research.google.com/assets/colab-badge.svg\" alt=\"Open In Colab\"/></a>"
      ]
    },
    {
      "cell_type": "markdown",
      "metadata": {
        "id": "eqULPilV1nPG"
      },
      "source": [
        "##Listas Doblemente Enlazadas\n",
        "**Definicion de la clase Estudiante**"
      ]
    },
    {
      "cell_type": "code",
      "metadata": {
        "id": "ym-LoVCYMy24"
      },
      "source": [
        "class estudiante:\n",
        "  def __init__(self, carne, nombre, edad, direccion, telefono, email, carrera, puesto):\n",
        "    self.carne = carne\n",
        "    self.nombre = nombre\n",
        "    self.edad = edad\n",
        "    self.direccion = direccion\n",
        "    self.telefono = telefono\n",
        "    self.email = email\n",
        "    self.carrera = carrera\n",
        "    self.puesto = puesto "
      ],
      "execution_count": null,
      "outputs": []
    },
    {
      "cell_type": "markdown",
      "metadata": {
        "id": "7Bgmx0MYOEIF"
      },
      "source": [
        "**Definición clase Nodo**"
      ]
    },
    {
      "cell_type": "code",
      "metadata": {
        "id": "ahYLwjLdOJ6F"
      },
      "source": [
        "class nodo:\n",
        "  def __init__(self,estudiante=None,siguiente=None,anterior=None):\n",
        "    self.estudiante = estudiante\n",
        "    self.siguiente = siguiente\n",
        "    self.anterior = anterior"
      ],
      "execution_count": null,
      "outputs": []
    },
    {
      "cell_type": "markdown",
      "metadata": {
        "id": "bPnwEm0mOrtb"
      },
      "source": [
        "**Definicion de la clase Lista Doblemente Enlazada**"
      ]
    },
    {
      "cell_type": "code",
      "metadata": {
        "id": "HJ_ULV8xOyNA"
      },
      "source": [
        "class lista_double:\n",
        "  def __init__(self):\n",
        "    self.primero = None\n",
        "\n",
        "  def insertar(self, estudiante):\n",
        "    if self.primero is None:\n",
        "      self.primero = nodo(estudiante=estudiante)\n",
        "    else:\n",
        "      actual = nodo(estudiante=estudiante,siguiente=self.primero)\n",
        "      self.primero.anterior = actual\n",
        "      self.primero = actual\n",
        "\n",
        "  def recorrer(self):\n",
        "    if self.primero is None:\n",
        "      return\n",
        "    actual = self.primero\n",
        "    print(\"carne:\", actual.estudiante.carne, \"nombre:\", actual.estudiante.nombre, \"email:\", actual.estudiante.email, \"->\")\n",
        "    while actual.siguiente:\n",
        "      actual = actual.siguiente\n",
        "      print(\"carne:\", actual.estudiante.carne, \"nombre:\", actual.estudiante.nombre, \"email:\", actual.estudiante.email, \"->\")\n",
        "  \n",
        "  def eliminar(self, carne):\n",
        "    actual = self.primero\n",
        "    while actual:\n",
        "      if actual.estudiante.carne == carne:\n",
        "        if actual.anterior:\n",
        "          if actual.siguiente:\n",
        "            actual.anterior.siguiente = actual.siguiente\n",
        "            actual.siguiente.anterior = actual.anterior\n",
        "          else:\n",
        "            actual.anterior.siguiente = None\n",
        "            actual.anterior = None\n",
        "        else:\n",
        "          if actual.siguiente:\n",
        "            self.primero = actual.siguiente\n",
        "            actual.siguiente.anterior = None\n",
        "          else:\n",
        "            self.primero = None\n",
        "        return True\n",
        "      else:\n",
        "        actual = actual.siguiente\n",
        "    return False\n",
        "  \n",
        "  def buscar(self, carne):\n",
        "    actual = self.primero\n",
        "    while actual and actual.estudiante.carne != carne:\n",
        "      actual = actual.siguiente\n",
        "    if actual is None:\n",
        "      print('El nodo no existe en la lista')\n",
        "    elif actual:\n",
        "      print(\"carne:\", actual.estudiante.carne, \"nombre:\", actual.estudiante.nombre, \"email:\", actual.estudiante.email)\n",
        "\n",
        "\n",
        "\n",
        "\n"
      ],
      "execution_count": null,
      "outputs": []
    },
    {
      "cell_type": "markdown",
      "metadata": {
        "id": "OtYb5B2OWKVG"
      },
      "source": [
        "**Creación de objeto Estudiante**"
      ]
    },
    {
      "cell_type": "code",
      "metadata": {
        "id": "kjB9URRhWP8Z"
      },
      "source": [
        "e1 = estudiante(201915059, \"Gerson Ortiz\",20,\"9calle 10-02 zona1\",24400101,\"gerson.ortiz@gmail.com\",\"Ingenieria en Sistemas\", \"Catedratico\")\n",
        "e2 = estudiante(201915060, \"Karen Ortiz\",21,\"8calle 10-02 zona1\",24400101, \"karen.ortiz@gmail.com\",\"Ingenieria en Sistemas\", \"Estudiante\")\n",
        "e3 = estudiante(201915061, \"Luis Ortiz\",22,\"7calle 10-02 zona1\",24400101, \"luis.ortiz@gmail.com\",\"Ingenieria en Sistemas\", \"Estudiante\")"
      ],
      "execution_count": null,
      "outputs": []
    },
    {
      "cell_type": "markdown",
      "metadata": {
        "id": "WWdF9rCKWhbE"
      },
      "source": [
        "**Insertar**"
      ]
    },
    {
      "cell_type": "code",
      "metadata": {
        "id": "F3I0n5g3Wn3U"
      },
      "source": [
        "lista_d = lista_double()\n",
        "lista_d.insertar(e1)\n",
        "lista_d.insertar(e2)\n",
        "lista_d.insertar(e3)"
      ],
      "execution_count": null,
      "outputs": []
    },
    {
      "cell_type": "markdown",
      "metadata": {
        "id": "2ILkN_IXJH2F"
      },
      "source": [
        "**Recorrer la lista**"
      ]
    },
    {
      "cell_type": "code",
      "metadata": {
        "colab": {
          "base_uri": "https://localhost:8080/"
        },
        "id": "g_rbrO5sJMs1",
        "outputId": "7d867ec9-8fc6-4d0b-d8c2-e43c326089f3"
      },
      "source": [
        "lista_d.recorrer()"
      ],
      "execution_count": null,
      "outputs": [
        {
          "output_type": "stream",
          "text": [
            "carne: 201915061 nombre: Luis Ortiz email: luis.ortiz@gmail.com ->\n",
            "carne: 201915060 nombre: Karen Ortiz email: karen.ortiz@gmail.com ->\n",
            "carne: 201915059 nombre: Gerson Ortiz email: gerson.ortiz@gmail.com ->\n"
          ],
          "name": "stdout"
        }
      ]
    },
    {
      "cell_type": "markdown",
      "metadata": {
        "id": "_5UJyReaJQ3b"
      },
      "source": [
        "**Eliminar el nodo del medio de la lista**\n"
      ]
    },
    {
      "cell_type": "code",
      "metadata": {
        "colab": {
          "base_uri": "https://localhost:8080/"
        },
        "id": "vanHAby6JbCR",
        "outputId": "08261341-8172-4540-9abc-89a2a87b0e8f"
      },
      "source": [
        "lista_d.eliminar(201915060)\n",
        "lista_d.recorrer()"
      ],
      "execution_count": null,
      "outputs": [
        {
          "output_type": "stream",
          "text": [
            "carne: 201915061 nombre: Luis Ortiz email: luis.ortiz@gmail.com ->\n",
            "carne: 201915059 nombre: Gerson Ortiz email: gerson.ortiz@gmail.com ->\n"
          ],
          "name": "stdout"
        }
      ]
    },
    {
      "cell_type": "markdown",
      "metadata": {
        "id": "5C5JH0PiKLVL"
      },
      "source": [
        "**Eliminar el nodo primero de la lista**"
      ]
    },
    {
      "cell_type": "code",
      "metadata": {
        "colab": {
          "base_uri": "https://localhost:8080/"
        },
        "id": "eqUa5cRvKUn2",
        "outputId": "da114ac6-b299-4f9f-c5c8-15a27d622a15"
      },
      "source": [
        "lista_d.eliminar(201915061)\n",
        "lista_d.recorrer()"
      ],
      "execution_count": null,
      "outputs": [
        {
          "output_type": "stream",
          "text": [
            "carne: 201915059 nombre: Gerson Ortiz email: gerson.ortiz@gmail.com ->\n"
          ],
          "name": "stdout"
        }
      ]
    },
    {
      "cell_type": "markdown",
      "metadata": {
        "id": "gZEuLgMsKlPf"
      },
      "source": [
        "**Eliminar el último nodo de la lista**"
      ]
    },
    {
      "cell_type": "code",
      "metadata": {
        "id": "sJjhdc7ZKu-v"
      },
      "source": [
        "lista_d.eliminar(201915059)\n",
        "lista_d.recorrer()"
      ],
      "execution_count": null,
      "outputs": []
    },
    {
      "cell_type": "markdown",
      "metadata": {
        "id": "wQjFKnarLpvR"
      },
      "source": [
        "**Eliminar nodo a nodo de la lista**"
      ]
    },
    {
      "cell_type": "code",
      "metadata": {
        "id": "losGPYMELty0"
      },
      "source": [
        "lista_d.eliminar(201915061)\n",
        "lista_d.recorrer()"
      ],
      "execution_count": null,
      "outputs": []
    },
    {
      "cell_type": "code",
      "metadata": {
        "id": "ACKI4ZDlL5jU"
      },
      "source": [
        "lista_d.eliminar(201915060)\n",
        "lista_d.recorrer()"
      ],
      "execution_count": null,
      "outputs": []
    },
    {
      "cell_type": "code",
      "metadata": {
        "id": "FFxVgHMLMAzw"
      },
      "source": [
        "lista_d.eliminar(201915059)\n",
        "lista_d.recorrer()"
      ],
      "execution_count": null,
      "outputs": []
    },
    {
      "cell_type": "markdown",
      "metadata": {
        "id": "c5bpQPoQMVPq"
      },
      "source": [
        "**Busqueda**"
      ]
    },
    {
      "cell_type": "code",
      "metadata": {
        "colab": {
          "base_uri": "https://localhost:8080/"
        },
        "id": "iiL8XVrXMXIa",
        "outputId": "6caba75f-ca5e-462a-9d77-07f7780f5358"
      },
      "source": [
        "lista_d.buscar(201915060)\n"
      ],
      "execution_count": null,
      "outputs": [
        {
          "output_type": "stream",
          "text": [
            "El nodo no existe en la lista\n"
          ],
          "name": "stdout"
        }
      ]
    }
  ]
}