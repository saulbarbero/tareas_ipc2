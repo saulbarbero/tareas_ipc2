{
  "nbformat": 4,
  "nbformat_minor": 0,
  "metadata": {
    "colab": {
      "name": "2. Listas circulares.ipynb",
      "provenance": [],
      "authorship_tag": "ABX9TyPBJGBDHSxm0t19qA4VFw9i",
      "include_colab_link": true
    },
    "kernelspec": {
      "name": "python3",
      "display_name": "Python 3"
    },
    "language_info": {
      "name": "python"
    }
  },
  "cells": [
    {
      "cell_type": "markdown",
      "metadata": {
        "id": "view-in-github",
        "colab_type": "text"
      },
      "source": [
        "<a href=\"https://colab.research.google.com/github/saulbarbero/tareas_ipc2/blob/main/2_Listas_circulares.ipynb\" target=\"_parent\"><img src=\"https://colab.research.google.com/assets/colab-badge.svg\" alt=\"Open In Colab\"/></a>"
      ]
    },
    {
      "cell_type": "markdown",
      "metadata": {
        "id": "eqULPilV1nPG"
      },
      "source": [
        "##Listas Circulares\n",
        "**Definicion de la clase Estudiante**"
      ]
    },
    {
      "cell_type": "code",
      "metadata": {
        "id": "BRBu3aii116h"
      },
      "source": [
        "class estudiante:\n",
        "  def __init__(self, carne, nombre, edad, direccion, telefono, email, carrera, puesto):\n",
        "    self.carne = carne\n",
        "    self.nombre = nombre\n",
        "    self.edad = edad\n",
        "    self.direccion = direccion\n",
        "    self.telefono = telefono\n",
        "    self.email = email\n",
        "    self.carrera = carrera\n",
        "    self.puesto = puesto "
      ],
      "execution_count": null,
      "outputs": []
    },
    {
      "cell_type": "markdown",
      "metadata": {
        "id": "ukcZK3Fm16UZ"
      },
      "source": [
        "**Definición clase nodo**"
      ]
    },
    {
      "cell_type": "code",
      "metadata": {
        "id": "yhdtEZqA1_wW"
      },
      "source": [
        "class nodo:\n",
        "  def __init__(self, estudiante=None, siguiente=None):\n",
        "    self.estudiante = estudiante\n",
        "    self.siguiente = siguiente"
      ],
      "execution_count": null,
      "outputs": []
    },
    {
      "cell_type": "markdown",
      "metadata": {
        "id": "WRHlhvFM2D6a"
      },
      "source": [
        "**Definicion clase Lista Circular**"
      ]
    },
    {
      "cell_type": "code",
      "metadata": {
        "id": "eezRsyDR2JZC"
      },
      "source": [
        "class lista_circular:\n",
        "  def __init__(self):\n",
        "    self.primero = None\n",
        "\n",
        "  def insertar(self,estudiante):\n",
        "    if self.primero is None:\n",
        "      self.primero = nodo(estudiante=estudiante)\n",
        "      self.primero.siguiente = self.primero\n",
        "    else: \n",
        "      actual = nodo(estudiante = estudiante, siguiente = self.primero.siguiente)\n",
        "      self.primero.siguiente = actual\n",
        "\n",
        "  def recorrer(self):\n",
        "    if self.primero is None:\n",
        "      return\n",
        "    actual = self.primero\n",
        "    print(\"carne:\",actual.estudiante.carne, \"nombre:\", actual.estudiante.nombre, \"emaill\", actual.estudiante.email,\"->\")\n",
        "    while actual.siguiente != self.primero:\n",
        "      actual = actual.siguiente\n",
        "      print(\"carne:\",actual.estudiante.carne, \"nombre:\", actual.estudiante.nombre, \"emaill\", actual.estudiante.email,\"->\")\n",
        "\n",
        "  def eliminar(self,carne):\n",
        "    actual = self.primero\n",
        "    anterior = None\n",
        "\n",
        "    while actual and actual.estudiante.carne != carne:\n",
        "      anterior = actual\n",
        "      actual = actual.siguiente\n",
        "      if actual == self.primero:\n",
        "        break\n",
        "\n",
        "    if anterior is not None:\n",
        "      anterior.siguiente = actual.siguiente\n",
        "    else:\n",
        "      while actual.siguiente != self.primero:\n",
        "        actual = actual.siguiente\n",
        "      actual.siguiente = self.primero.siguiente\n",
        "      self.primero = self.primero.siguiente\n",
        "\n",
        "\n",
        "  def buscar(self,carne):\n",
        "    \n",
        "    actual = self.primero\n",
        "    if carne == actual.estudiante.carne :\n",
        "      print(\"carne:\",actual.estudiante.carne, \"nombre:\", actual.estudiante.nombre, \"emaill\", actual.estudiante.email,\"->\")\n",
        "\n",
        "\n",
        "      "
      ],
      "execution_count": 19,
      "outputs": []
    },
    {
      "cell_type": "markdown",
      "metadata": {
        "id": "7JIovdV0-A3K"
      },
      "source": [
        "**Creacion Objetos Estudiante**\n"
      ]
    },
    {
      "cell_type": "code",
      "metadata": {
        "id": "_-5rDb_y-L-J"
      },
      "source": [
        "e1 = estudiante(201915059, \"Gerson Ortiz\",20,\"9calle 10-02 zona1\",24400101,\"gerson.ortiz@gmail.com\",\"Ingenieria en Sistemas\", \"Catedratico\")\n",
        "e2 = estudiante(201915060, \"Karen Ortiz\",21,\"8calle 10-02 zona1\",24400101, \"karen.ortiz@gmail.com\",\"Ingenieria en Sistemas\", \"Estudiante\")\n",
        "e3 = estudiante(201915061, \"Luis Ortiz\",22,\"7calle 10-02 zona1\",24400101, \"luis.ortiz@gmail.com\",\"Ingenieria en Sistemas\", \"Estudiante\")"
      ],
      "execution_count": null,
      "outputs": []
    },
    {
      "cell_type": "markdown",
      "metadata": {
        "id": "k_oSdj-s-USj"
      },
      "source": [
        "**Insercion**\n"
      ]
    },
    {
      "cell_type": "code",
      "metadata": {
        "id": "8RjrCqMl-Wqc"
      },
      "source": [
        "lista_c = lista_circular()\n",
        "lista_c.insertar(e1)\n",
        "lista_c.insertar(e2)\n",
        "lista_c.insertar(e3)"
      ],
      "execution_count": null,
      "outputs": []
    },
    {
      "cell_type": "markdown",
      "metadata": {
        "id": "uPXp3ORDsG_G"
      },
      "source": [
        "**Eliminar un nodo de la lista**"
      ]
    },
    {
      "cell_type": "code",
      "metadata": {
        "colab": {
          "base_uri": "https://localhost:8080/"
        },
        "id": "4nYMKzV4sQjr",
        "outputId": "9dce8e02-aa65-47f5-d829-be9c85ad9178"
      },
      "source": [
        "lista_c.eliminar(201915059)\n",
        "lista_c.recorrer()"
      ],
      "execution_count": null,
      "outputs": [
        {
          "output_type": "stream",
          "text": [
            "carne: 201915061 nombre: Luis Ortiz emaill luis.ortiz@gmail.com ->\n",
            "carne: 201915060 nombre: Karen Ortiz emaill karen.ortiz@gmail.com ->\n"
          ],
          "name": "stdout"
        }
      ]
    },
    {
      "cell_type": "markdown",
      "metadata": {
        "id": "T-uePC0yf-oN"
      },
      "source": [
        "**Buscar**"
      ]
    },
    {
      "cell_type": "code",
      "metadata": {
        "colab": {
          "base_uri": "https://localhost:8080/",
          "height": 172
        },
        "id": "P5GnVShF9Fd8",
        "outputId": "e3b2eb43-f2da-4326-e022-c9e310285810"
      },
      "source": [
        "lista_c.buscar(201915060)"
      ],
      "execution_count": 20,
      "outputs": [
        {
          "output_type": "error",
          "ename": "TypeError",
          "evalue": "ignored",
          "traceback": [
            "\u001b[0;31m---------------------------------------------------------------------------\u001b[0m",
            "\u001b[0;31mTypeError\u001b[0m                                 Traceback (most recent call last)",
            "\u001b[0;32m<ipython-input-20-198ee7e5969d>\u001b[0m in \u001b[0;36m<module>\u001b[0;34m()\u001b[0m\n\u001b[0;32m----> 1\u001b[0;31m \u001b[0mlista_c\u001b[0m\u001b[0;34m.\u001b[0m\u001b[0mbuscar\u001b[0m\u001b[0;34m(\u001b[0m\u001b[0;36m201915060\u001b[0m\u001b[0;34m)\u001b[0m\u001b[0;34m\u001b[0m\u001b[0;34m\u001b[0m\u001b[0m\n\u001b[0m",
            "\u001b[0;31mTypeError\u001b[0m: buscar() takes 1 positional argument but 2 were given"
          ]
        }
      ]
    }
  ]
}